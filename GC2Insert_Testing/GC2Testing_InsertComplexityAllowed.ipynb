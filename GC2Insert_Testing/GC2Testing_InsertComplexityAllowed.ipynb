{
 "cells": [
  {
   "cell_type": "markdown",
   "metadata": {},
   "source": [
    "# Contact Information: Daniel Wieferich (dwieferich@usgs.gov)                                                                                                                                                                                                                       "
   ]
  },
  {
   "cell_type": "markdown",
   "metadata": {},
   "source": [
    "###### Date: 20170526"
   ]
  },
  {
   "cell_type": "markdown",
   "metadata": {},
   "source": [
    "# We were having issues with inserting complex geometries to the mapcentia gc2 instance through the sql API.  To help identify limitations with the sql API, this script tests the insert capabilities and tracks the number of vertices a geometry can have before the insert fails."
   ]
  },
  {
   "cell_type": "code",
   "execution_count": null,
   "metadata": {
    "collapsed": false
   },
   "outputs": [],
   "source": [
    "import geopandas as gpd\n",
    "import getpass\n",
    "import pandas as pd\n",
    "import numpy as np\n",
    "import requests\n",
    "\n",
    "#Defines directories and credent\n",
    "execfile('theStuff.py')"
   ]
  },
  {
   "cell_type": "code",
   "execution_count": null,
   "metadata": {
    "collapsed": true
   },
   "outputs": [],
   "source": [
    "#Imports a shapefile of 1500 line segments with various numbers of vertices.  Imports as geodataframe.\n",
    "lin1 = directory + \"/Drainage/nhdflowline1500.shp\"\n",
    "gdf2 = gpd.read_file(lin1)"
   ]
  },
  {
   "cell_type": "code",
   "execution_count": 8,
   "metadata": {
    "collapsed": false
   },
   "outputs": [
    {
     "name": "stdout",
     "output_type": "stream",
     "text": [
      "6641118\n",
      "6646624\n",
      "6647026\n",
      "6647062\n",
      "6647204\n",
      "6656933\n",
      "6656993\n"
     ]
    },
    {
     "data": {
      "text/html": [
       "<div>\n",
       "<table border=\"1\" class=\"dataframe\">\n",
       "  <thead>\n",
       "    <tr style=\"text-align: right;\">\n",
       "      <th></th>\n",
       "      <th>comid</th>\n",
       "      <th>coordCnt</th>\n",
       "      <th>result</th>\n",
       "      <th>status</th>\n",
       "    </tr>\n",
       "  </thead>\n",
       "  <tbody>\n",
       "    <tr>\n",
       "      <th>0</th>\n",
       "      <td>6635568</td>\n",
       "      <td>25</td>\n",
       "      <td>1</td>\n",
       "      <td>200</td>\n",
       "    </tr>\n",
       "    <tr>\n",
       "      <th>1</th>\n",
       "      <td>6635570</td>\n",
       "      <td>81</td>\n",
       "      <td>1</td>\n",
       "      <td>200</td>\n",
       "    </tr>\n",
       "    <tr>\n",
       "      <th>2</th>\n",
       "      <td>6635572</td>\n",
       "      <td>14</td>\n",
       "      <td>1</td>\n",
       "      <td>200</td>\n",
       "    </tr>\n",
       "    <tr>\n",
       "      <th>3</th>\n",
       "      <td>6635574</td>\n",
       "      <td>14</td>\n",
       "      <td>1</td>\n",
       "      <td>200</td>\n",
       "    </tr>\n",
       "    <tr>\n",
       "      <th>4</th>\n",
       "      <td>6635576</td>\n",
       "      <td>172</td>\n",
       "      <td>1</td>\n",
       "      <td>200</td>\n",
       "    </tr>\n",
       "  </tbody>\n",
       "</table>\n",
       "</div>"
      ],
      "text/plain": [
       "     comid coordCnt  result status\n",
       "0  6635568       25       1    200\n",
       "1  6635570       81       1    200\n",
       "2  6635572       14       1    200\n",
       "3  6635574       14       1    200\n",
       "4  6635576      172       1    200"
      ]
     },
     "execution_count": 8,
     "metadata": {},
     "output_type": "execute_result"
    }
   ],
   "source": [
    "d = []\n",
    "for index, row in gdf2.iterrows():\n",
    "    line = str(row['geometry'])  \n",
    "    line = line.replace(\"(\", \"((\")\n",
    "    line = line.replace(\")\", \"))\")\n",
    "    \n",
    "    #Counts number coordinate pairs.  Counts spaces and divides that by 2 to get number of coordinate pairs (roughly).  \n",
    "    #This doesn't account for text at beginning but using this just for an approximation so don't want to waste processing time refining text \n",
    "    countCoor = str(len(line.split())/2)\n",
    "    \n",
    "    #Note that gc2 forced geojson input to be a multilinestring, the data is actually linestring, geometry value needs to be changed to Multilinestring which is reflected below\n",
    "    #note gc2key is coming from 'theStuff.py' as variable\n",
    "    query = \"https://gc2.mapcentia.com/api/v1/sql/bcb?q=insert into sfr.line_test2 (comid, the_geom) VALUES ('\" + str(row['COMID']) + \"', ST_GeomFromText('MULTI\" + line + \"',4269))&key=\" + gc2k\n",
    "    \n",
    "    \n",
    "    #This should use a retry for  requests or alike to handle with connection issues\n",
    "    try:\n",
    "        r = requests.get(query)\n",
    "        status = str(r.status_code)\n",
    "        if r.status_code == 200:\n",
    "            d.append({\"coordCnt\": countCoor, 'result': 1, 'status': status, 'comid': str(row['COMID'])})\n",
    "        else:\n",
    "            d.append({\"coordCnt\": countCoor, 'result': 2, 'status': status, 'comid': str(row['COMID'])})\n",
    "            print str(row['COMID'])\n",
    "    except:\n",
    "        d.append({\"coordCnt\": countCoor, 'result': 3, 'status': 'didnt work', 'comid': str(row['COMID'])})\n",
    "        print \"crap\" + str(row['COMID'])\n",
    "        continue\n",
    "        \n",
    "\n",
    "df = pd.DataFrame(d)\n",
    "df.head()"
   ]
  },
  {
   "cell_type": "code",
   "execution_count": 44,
   "metadata": {
    "collapsed": false
   },
   "outputs": [
    {
     "name": "stdout",
     "output_type": "stream",
     "text": [
      "Comid         Count Coordinates        Response Status \n",
      "6641118             195                         414\n",
      "6646624             271                         414\n",
      "6647026             250                         414\n",
      "6647062             194                         414\n",
      "6647204             293                         414\n",
      "6656933             282                         414\n",
      "6656993             293                         414\n"
     ]
    }
   ],
   "source": [
    "#Printing things out all ugly like\n",
    "\n",
    "print 'Comid         Count Coordinates        Response Status '\n",
    "for index, row in df.iterrows():\n",
    "    if  row['status'] != '200':\n",
    "        print row['comid'], '           ', row['coordCnt'], '                       ', row['status']"
   ]
  },
  {
   "cell_type": "code",
   "execution_count": null,
   "metadata": {
    "collapsed": true
   },
   "outputs": [],
   "source": [
    "#The next lowest  count that worked was 191 coordinate pairs so somewhere between 191 and 194 is the max"
   ]
  }
 ],
 "metadata": {
  "anaconda-cloud": {},
  "kernelspec": {
   "display_name": "Python [conda env:DWtest]",
   "language": "python",
   "name": "conda-env-DWtest-py"
  },
  "language_info": {
   "codemirror_mode": {
    "name": "ipython",
    "version": 2
   },
   "file_extension": ".py",
   "mimetype": "text/x-python",
   "name": "python",
   "nbconvert_exporter": "python",
   "pygments_lexer": "ipython2",
   "version": "2.7.12"
  }
 },
 "nbformat": 4,
 "nbformat_minor": 0
}
