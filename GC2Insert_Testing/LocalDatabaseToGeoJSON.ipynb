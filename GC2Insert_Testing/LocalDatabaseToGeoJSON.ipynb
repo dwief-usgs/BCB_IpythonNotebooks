{
 "cells": [
  {
   "cell_type": "code",
   "execution_count": null,
   "metadata": {
    "collapsed": true
   },
   "outputs": [],
   "source": [
    "### Pulls down 3 point records from local postgres instance and creates a geojson file to test against"
   ]
  },
  {
   "cell_type": "code",
   "execution_count": null,
   "metadata": {
    "collapsed": true
   },
   "outputs": [],
   "source": [
    "import psycopg2\n",
    "import geopandas as gpd\n",
    "import getpass\n",
    "import psycopg2.extras\n",
    "import pandas as pd"
   ]
  },
  {
   "cell_type": "code",
   "execution_count": null,
   "metadata": {
    "collapsed": true
   },
   "outputs": [],
   "source": [
    "password = getpass.getpass('PostGreSQL Password: ')\n",
    "database = raw_input('PostGreSQL Database: ')\n",
    "username = raw_input('User Name: ')\n",
    "conn_string = \"host='localhost' dbname=\" + str(database) + \" user=\" + str(username) + \" password=\" + str(password)"
   ]
  },
  {
   "cell_type": "code",
   "execution_count": null,
   "metadata": {
    "collapsed": true
   },
   "outputs": [],
   "source": [
    "conn= psycopg2.connect(conn_string)\n",
    "\n",
    "sql1 = \"\"\"select a.featureuri, a.title, a.sfrspatcert, a.ftypeb, a.ftyped, a.geom from public.sfr_point a where a.featureuri in ('00002972-ed66-11e6-b168-8fc1348c3a58','00003e24-ed64-11e6-b344-0f2972444f8e','00002971-ed66-11e6-b167-1fcf3bf50251');\"\"\"\n",
    "sql1_df=gpd.GeoDataFrame.from_postgis(sql1,conn,geom_col='geom',crs=4269)\n",
    "\n",
    "sql1_df.crs = {'init':'epsg:4269'}\n",
    "sql1_df.to_file(\"insertTest.geojson\", driver='GeoJSON')"
   ]
  }
 ],
 "metadata": {
  "kernelspec": {
   "display_name": "Python [default]",
   "language": "python",
   "name": "python2"
  },
  "language_info": {
   "codemirror_mode": {
    "name": "ipython",
    "version": 2
   },
   "file_extension": ".py",
   "mimetype": "text/x-python",
   "name": "python",
   "nbconvert_exporter": "python",
   "pygments_lexer": "ipython2",
   "version": "2.7.12"
  }
 },
 "nbformat": 4,
 "nbformat_minor": 1
}
