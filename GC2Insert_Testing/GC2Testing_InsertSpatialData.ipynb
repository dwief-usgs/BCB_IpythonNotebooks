{
 "cells": [
  {
   "cell_type": "markdown",
   "metadata": {},
   "source": [
    "# Contact Information: Daniel Wieferich (dwieferich@usgs.gov)                                                                                                                                                                                                                       "
   ]
  },
  {
   "cell_type": "markdown",
   "metadata": {},
   "source": [
    "##### Date: 201705"
   ]
  },
  {
   "cell_type": "markdown",
   "metadata": {},
   "source": [
    "# Testing pulling data from a source (this example uses the included GeoJson file) and inserting data into a database using the sql api in GC2.  This code is in progress."
   ]
  },
  {
   "cell_type": "code",
   "execution_count": 1,
   "metadata": {
    "collapsed": false
   },
   "outputs": [],
   "source": [
    "import geopandas as gpd\n",
    "import getpass\n",
    "import pandas as pd\n",
    "import numpy as np\n",
    "import requests"
   ]
  },
  {
   "cell_type": "code",
   "execution_count": 11,
   "metadata": {
    "collapsed": false
   },
   "outputs": [
    {
     "data": {
      "text/html": [
       "<div>\n",
       "<table border=\"1\" class=\"dataframe\">\n",
       "  <thead>\n",
       "    <tr style=\"text-align: right;\">\n",
       "      <th></th>\n",
       "      <th>featureuri</th>\n",
       "      <th>ftypeb</th>\n",
       "      <th>ftyped</th>\n",
       "      <th>geometry</th>\n",
       "      <th>sfrspatcert</th>\n",
       "      <th>title</th>\n",
       "    </tr>\n",
       "  </thead>\n",
       "  <tbody>\n",
       "    <tr>\n",
       "      <th>0</th>\n",
       "      <td>00002971-ed66-11e6-b167-1fcf3bf50251</td>\n",
       "      <td>https://www.sciencebase.gov/vocab/term/58a487e...</td>\n",
       "      <td>https://www.sciencebase.gov/vocab/term/58a49ca...</td>\n",
       "      <td>POINT Z (-114.5478015909999 38.00542046900006 0)</td>\n",
       "      <td>https://www.sciencebase.gov/vocab/term/5822257...</td>\n",
       "      <td>20595156</td>\n",
       "    </tr>\n",
       "    <tr>\n",
       "      <th>1</th>\n",
       "      <td>00002972-ed66-11e6-b168-8fc1348c3a58</td>\n",
       "      <td>https://www.sciencebase.gov/vocab/term/58a487e...</td>\n",
       "      <td>https://www.sciencebase.gov/vocab/term/58a49ca...</td>\n",
       "      <td>POINT Z (-114.5780308659999 38.00019370800004 0)</td>\n",
       "      <td>https://www.sciencebase.gov/vocab/term/5822257...</td>\n",
       "      <td>20595158</td>\n",
       "    </tr>\n",
       "    <tr>\n",
       "      <th>2</th>\n",
       "      <td>00003e24-ed64-11e6-b344-0f2972444f8e</td>\n",
       "      <td>https://www.sciencebase.gov/vocab/term/58a487e...</td>\n",
       "      <td>https://www.sciencebase.gov/vocab/term/58a49ca...</td>\n",
       "      <td>POINT Z (-109.2616298429999 46.87911595100007 0)</td>\n",
       "      <td>https://www.sciencebase.gov/vocab/term/5822257...</td>\n",
       "      <td>12380253</td>\n",
       "    </tr>\n",
       "  </tbody>\n",
       "</table>\n",
       "</div>"
      ],
      "text/plain": [
       "                             featureuri  \\\n",
       "0  00002971-ed66-11e6-b167-1fcf3bf50251   \n",
       "1  00002972-ed66-11e6-b168-8fc1348c3a58   \n",
       "2  00003e24-ed64-11e6-b344-0f2972444f8e   \n",
       "\n",
       "                                              ftypeb  \\\n",
       "0  https://www.sciencebase.gov/vocab/term/58a487e...   \n",
       "1  https://www.sciencebase.gov/vocab/term/58a487e...   \n",
       "2  https://www.sciencebase.gov/vocab/term/58a487e...   \n",
       "\n",
       "                                              ftyped  \\\n",
       "0  https://www.sciencebase.gov/vocab/term/58a49ca...   \n",
       "1  https://www.sciencebase.gov/vocab/term/58a49ca...   \n",
       "2  https://www.sciencebase.gov/vocab/term/58a49ca...   \n",
       "\n",
       "                                           geometry  \\\n",
       "0  POINT Z (-114.5478015909999 38.00542046900006 0)   \n",
       "1  POINT Z (-114.5780308659999 38.00019370800004 0)   \n",
       "2  POINT Z (-109.2616298429999 46.87911595100007 0)   \n",
       "\n",
       "                                         sfrspatcert     title  \n",
       "0  https://www.sciencebase.gov/vocab/term/5822257...  20595156  \n",
       "1  https://www.sciencebase.gov/vocab/term/5822257...  20595158  \n",
       "2  https://www.sciencebase.gov/vocab/term/5822257...  12380253  "
      ]
     },
     "execution_count": 11,
     "metadata": {},
     "output_type": "execute_result"
    }
   ],
   "source": [
    "#Import data from geoJson file, create geodataframe\n",
    "gdf = gpd.read_file(\"insertTest.geojson\")\n",
    "gdf.head()"
   ]
  },
  {
   "cell_type": "code",
   "execution_count": 15,
   "metadata": {
    "collapsed": false
   },
   "outputs": [
    {
     "name": "stdout",
     "output_type": "stream",
     "text": [
      "https://gc2.mapcentia.com/api/v1/sql/bcb?q=insert into sfr.sfr_pointtest (featureuri, title, sfrspatcert, ftypeb, ftyped, the_geom) VALUES ('00002971-ed66-11e6-b167-1fcf3bf50251','20595156','https://www.sciencebase.gov/vocab/term/5822257ee4b0b3d9add24304','https://www.sciencebase.gov/vocab/term/58a487eee4b0f974afcf03b2','https://www.sciencebase.gov/vocab/term/58a49caee4b0f974afcf03b3', ST_GeomFromText('MultiPOINT Z (-114.5478015909999 38.00542046900006 0)',4269))\n",
      "https://gc2.mapcentia.com/api/v1/sql/bcb?q=insert into sfr.sfr_pointtest (featureuri, title, sfrspatcert, ftypeb, ftyped, the_geom) VALUES ('00002972-ed66-11e6-b168-8fc1348c3a58','20595158','https://www.sciencebase.gov/vocab/term/5822257ee4b0b3d9add24304','https://www.sciencebase.gov/vocab/term/58a487eee4b0f974afcf03b2','https://www.sciencebase.gov/vocab/term/58a49caee4b0f974afcf03b3', ST_GeomFromText('MultiPOINT Z (-114.5780308659999 38.00019370800004 0)',4269))\n",
      "https://gc2.mapcentia.com/api/v1/sql/bcb?q=insert into sfr.sfr_pointtest (featureuri, title, sfrspatcert, ftypeb, ftyped, the_geom) VALUES ('00003e24-ed64-11e6-b344-0f2972444f8e','12380253','https://www.sciencebase.gov/vocab/term/5822257ee4b0b3d9add24304','https://www.sciencebase.gov/vocab/term/58a487eee4b0f974afcf03b2','https://www.sciencebase.gov/vocab/term/58a49caee4b0f974afcf03b3', ST_GeomFromText('MultiPOINT Z (-109.2616298429999 46.87911595100007 0)',4269))\n"
     ]
    }
   ],
   "source": [
    "#Loop through rows in geodataframe and build url (WITHOUT API)\n",
    "for index, row in gdf.iterrows():\n",
    "    point = str(row['geometry'])  \n",
    "    #Note that gc2 forced geojson input to be a multipoint, the data is actually point, geometry value needs to be changed to MultiPOINT which is reflected below\n",
    "    query = \"https://gc2.mapcentia.com/api/v1/sql/bcb?q=insert into sfr.sfr_pointtest (featureuri, title, sfrspatcert, ftypeb, ftyped, the_geom) VALUES ('\" + row['featureuri'] + \"','\" + row['title'] + \"','\" + row['sfrspatcert'] + \"','\" + row['ftypeb'] + \"','\" +row['ftyped']+ \"', ST_GeomFromText('Multi\" + point+ \"',4269))\" \n",
    "    print query"
   ]
  },
  {
   "cell_type": "code",
   "execution_count": null,
   "metadata": {
    "collapsed": false
   },
   "outputs": [],
   "source": [
    "#Same as previous cell, but this uses requests to submit insert to GC2 (this works)\n",
    "apiKey = getpass.getpass('ApiKey: ')\n",
    "for index, row in gdf.iterrows():\n",
    "    try:\n",
    "        point = str(row['geom'])\n",
    "        #Note that gc2 forced geojson input to be a multipoint, that needs to be reflected here\n",
    "        query = \"https://gc2.mapcentia.com/api/v1/sql/bcb?q=insert into sfr.sfr_pointtest (featureuri, title, sfrspatcert, ftypeb, ftyped, the_geom) VALUES ('\" + row['featureuri'] + \"','\" + row['title'] + \"','\" + row['sfrspatcert'] + \"','\" + row['ftypeb'] + \"','\" +row['ftyped']+ \"', ST_GeomFromText('Multi\" + point+ \"',4269))&key=\" + apiKey \n",
    "        r = requests.get(query)\n",
    "        print r.json\n",
    "        #print r.url\n",
    "    except requests.exceptions.RequestException as e:\n",
    "        print e"
   ]
  },
  {
   "cell_type": "code",
   "execution_count": null,
   "metadata": {
    "collapsed": false
   },
   "outputs": [],
   "source": [
    "#Using a post the following initial test was unsucessful, returning status_code 500\n",
    "apiKey = getpass.getpass('ApiKey: ')\n",
    "for index, row in gdf.iterrows():\n",
    "    try:\n",
    "        point = str(row['geom'])\n",
    "        q = \"insert into sfr.sfr_pointtest (featureuri, title, sfrspatcert, ftypeb, ftyped, the_geom) VALUES ('\" + row['featureuri'] + \"','\" + row['title'] + \"','\" + row['sfrspatcert'] + \"','\" + row['ftypeb'] + \"','\" +row['ftyped']+ \"', ST_GeomFromText('Multi\" + point+ \"',4269))\"\n",
    "        payload = {'key': apiKey, 'q':q}\n",
    "        r = requests.post('https://gc2.mapcentia.com/api/v1/sql/bcb', params=payload)\n",
    "        #print r.url\n",
    "        print r.json\n",
    "    except requests.exceptions.RequestException as e:\n",
    "        print e"
   ]
  }
 ],
 "metadata": {
  "anaconda-cloud": {},
  "kernelspec": {
   "display_name": "Python [conda env:DWtest]",
   "language": "python",
   "name": "conda-env-DWtest-py"
  },
  "language_info": {
   "codemirror_mode": {
    "name": "ipython",
    "version": 2
   },
   "file_extension": ".py",
   "mimetype": "text/x-python",
   "name": "python",
   "nbconvert_exporter": "python",
   "pygments_lexer": "ipython2",
   "version": "2.7.12"
  }
 },
 "nbformat": 4,
 "nbformat_minor": 0
}
