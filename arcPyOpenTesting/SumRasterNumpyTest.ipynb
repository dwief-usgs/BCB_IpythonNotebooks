{
 "cells": [
  {
   "cell_type": "code",
   "execution_count": 1,
   "metadata": {
    "collapsed": true
   },
   "outputs": [],
   "source": [
    "import numpy as np\n",
    "from osgeo import gdal\n",
    "from osgeo import osr\n",
    "import time"
   ]
  },
  {
   "cell_type": "code",
   "execution_count": 2,
   "metadata": {},
   "outputs": [
    {
     "name": "stdout",
     "output_type": "stream",
     "text": [
      "---0.1032747745513916 minutes ---\n"
     ]
    }
   ],
   "source": [
    "startTime = time.time()\n",
    "\n",
    "fileName1 = 'exRast/bOSPRx_test.tif'\n",
    "fileName2 = 'exRast/floodtest2.tif'\n",
    "bandNum = 1\n",
    "\n",
    "ds1 = gdal.Open(fileName1)\n",
    "npDs1 = np.array(ds1.GetRasterBand(1).ReadAsArray())\n",
    "#sp1 = ds1.GetRasterBand(bandNum)\n",
    "\n",
    "ds2 = gdal.Open(fileName2)\n",
    "npDs2 = np.array(ds2.GetRasterBand(1).ReadAsArray())\n",
    "#floodPlain = ds2.GetRasterBand(bandNum)\n",
    "data = npDs1 + npDs2\n",
    "\n",
    "print ('---%s minutes ---' % ((time.time() - startTime)/60))"
   ]
  },
  {
   "cell_type": "code",
   "execution_count": 3,
   "metadata": {},
   "outputs": [
    {
     "data": {
      "text/plain": [
       "(23062, 26795)"
      ]
     },
     "execution_count": 3,
     "metadata": {},
     "output_type": "execute_result"
    }
   ],
   "source": [
    "data.shape"
   ]
  },
  {
   "cell_type": "code",
   "execution_count": 4,
   "metadata": {},
   "outputs": [
    {
     "data": {
      "text/plain": [
       "(23062, 26795)"
      ]
     },
     "execution_count": 4,
     "metadata": {},
     "output_type": "execute_result"
    }
   ],
   "source": [
    "npDs1.shape"
   ]
  },
  {
   "cell_type": "code",
   "execution_count": 5,
   "metadata": {},
   "outputs": [
    {
     "data": {
      "text/plain": [
       "(23062, 26795)"
      ]
     },
     "execution_count": 5,
     "metadata": {},
     "output_type": "execute_result"
    }
   ],
   "source": [
    "npDs2.shape"
   ]
  },
  {
   "cell_type": "code",
   "execution_count": 6,
   "metadata": {},
   "outputs": [
    {
     "data": {
      "text/plain": [
       "10"
      ]
     },
     "execution_count": 6,
     "metadata": {},
     "output_type": "execute_result"
    }
   ],
   "source": [
    "np.amin(data)"
   ]
  },
  {
   "cell_type": "code",
   "execution_count": 7,
   "metadata": {},
   "outputs": [
    {
     "data": {
      "text/plain": [
       "102"
      ]
     },
     "execution_count": 7,
     "metadata": {},
     "output_type": "execute_result"
    }
   ],
   "source": [
    "np.amax(data)"
   ]
  },
  {
   "cell_type": "code",
   "execution_count": 8,
   "metadata": {},
   "outputs": [
    {
     "data": {
      "text/plain": [
       "0"
      ]
     },
     "execution_count": 8,
     "metadata": {},
     "output_type": "execute_result"
    }
   ],
   "source": [
    "np.amin(npDs1)"
   ]
  },
  {
   "cell_type": "code",
   "execution_count": 9,
   "metadata": {},
   "outputs": [
    {
     "data": {
      "text/plain": [
       "3"
      ]
     },
     "execution_count": 9,
     "metadata": {},
     "output_type": "execute_result"
    }
   ],
   "source": [
    "np.amax(npDs1)"
   ]
  },
  {
   "cell_type": "code",
   "execution_count": 10,
   "metadata": {},
   "outputs": [
    {
     "data": {
      "text/plain": [
       "10"
      ]
     },
     "execution_count": 10,
     "metadata": {},
     "output_type": "execute_result"
    }
   ],
   "source": [
    "np.amin(npDs2)"
   ]
  },
  {
   "cell_type": "code",
   "execution_count": 11,
   "metadata": {},
   "outputs": [
    {
     "data": {
      "text/plain": [
       "99"
      ]
     },
     "execution_count": 11,
     "metadata": {},
     "output_type": "execute_result"
    }
   ],
   "source": [
    "np.amax(npDs2)"
   ]
  },
  {
   "cell_type": "code",
   "execution_count": null,
   "metadata": {
    "collapsed": true
   },
   "outputs": [],
   "source": [
    "nrows,ncols = np.shape(data)\n",
    "xmin,ymin,xmax,ymax = [796779.3876, 269278.180077, 1600629.3876, 961138.180077]\n",
    "xres = 30\n",
    "yres = 30\n",
    "geotransform = (xmin,xres,0,ymax,0,-yres)\n",
    "outputRaster=gdal.GetDriverByName('GTiff').Create('testOut.tif',ncols,nrows,1,gdal.GDT_Int16)\n",
    "outputRaster.GetRasterBand(1).WriteArray(data)\n",
    "outputRaster.SetGeoTransform(geotransform)\n",
    "srs = osr.SpatialReference()\n",
    "srs.ImportFromEPSG(102039) #USGS Albers Equal Area\n",
    "outputRaster.SetProjection(srs.ExportToWkt())\n",
    "outputRaster = None"
   ]
  },
  {
   "cell_type": "code",
   "execution_count": null,
   "metadata": {
    "collapsed": true
   },
   "outputs": [],
   "source": [
    "%matplotlib inline"
   ]
  },
  {
   "cell_type": "code",
   "execution_count": null,
   "metadata": {
    "collapsed": true
   },
   "outputs": [],
   "source": [
    "import matplotlib.pyplot as plt\n",
    "imgplot = plt.imshow(data)"
   ]
  },
  {
   "cell_type": "code",
   "execution_count": null,
   "metadata": {
    "collapsed": true
   },
   "outputs": [],
   "source": [
    "imgplot = plt.imshow(npDs2)"
   ]
  },
  {
   "cell_type": "markdown",
   "metadata": {},
   "source": [
    "# Examples based off:\n",
    "    http://geoexamples.blogspot.com/2012/12/raster-calculations-with-gdal-and-numpy.html\n",
    "    https://gis.stackexchange.com/questions/232301/writing-numpy-array-to-raster-file-tif-returns-a-trivial-black-square"
   ]
  },
  {
   "cell_type": "code",
   "execution_count": 2,
   "metadata": {},
   "outputs": [
    {
     "name": "stdout",
     "output_type": "stream",
     "text": [
      "---7.6265809814135235 minutes ---\n"
     ]
    }
   ],
   "source": [
    "startTime = time.time()\n",
    "\n",
    "fileName1 = 'exRast/bOSPRxClip2.tif'\n",
    "fileName2 = 'exRast/floodClip2.tif'\n",
    "bandNum = 1\n",
    "\n",
    "ds1 = gdal.Open(fileName1)\n",
    "npDs1 = np.array(ds1.GetRasterBand(1).ReadAsArray())\n",
    "#sp1 = ds1.GetRasterBand(bandNum)\n",
    "\n",
    "ds2 = gdal.Open(fileName2)\n",
    "npDs2 = np.array(ds2.GetRasterBand(1).ReadAsArray())\n",
    "#floodPlain = ds2.GetRasterBand(bandNum)\n",
    "data = npDs1 + npDs2\n",
    "\n",
    "print ('---%s minutes ---' % ((time.time() - startTime)/60))"
   ]
  },
  {
   "cell_type": "code",
   "execution_count": null,
   "metadata": {
    "collapsed": true
   },
   "outputs": [],
   "source": []
  }
 ],
 "metadata": {
  "kernelspec": {
   "display_name": "Python 3",
   "language": "python",
   "name": "python3"
  },
  "language_info": {
   "codemirror_mode": {
    "name": "ipython",
    "version": 3
   },
   "file_extension": ".py",
   "mimetype": "text/x-python",
   "name": "python",
   "nbconvert_exporter": "python",
   "pygments_lexer": "ipython3",
   "version": "3.6.1"
  }
 },
 "nbformat": 4,
 "nbformat_minor": 2
}
