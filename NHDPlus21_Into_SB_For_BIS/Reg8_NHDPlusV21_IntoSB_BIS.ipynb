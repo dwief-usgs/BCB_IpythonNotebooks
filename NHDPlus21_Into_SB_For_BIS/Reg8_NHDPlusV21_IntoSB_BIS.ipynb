{
 "cells": [
  {
   "cell_type": "markdown",
   "metadata": {},
   "source": [
    "# This python code builds ScienceBase items that house and describe specific versions of data files from the NHDPlusV2.1 that are being used in the Biogeographic Information System.  Data were extracted from ftp://ftp.horizon-systems.com/NHDplus/NHDPlusV21/ and stored within ScienceBase as attachments.  Although reorganized, the files stored in the ScienceBase Items were not altered. In future iterations of this code we would like to avoid using local disk space and operations that may be dependent on a local operating system.  "
   ]
  },
  {
   "cell_type": "code",
   "execution_count": 1,
   "metadata": {
    "collapsed": true
   },
   "outputs": [],
   "source": [
    "import pysb\n",
    "import urllib\n",
    "import os\n",
    "import getpass\n",
    "import time\n",
    "import subprocess\n",
    "from zipfile import ZipFile\n",
    "import zipfile"
   ]
  },
  {
   "cell_type": "code",
   "execution_count": 2,
   "metadata": {},
   "outputs": [
    {
     "data": {
      "text/plain": [
       "('NHDPlusV21_MS_08_NHDPlusCatchment_01.7z',\n",
       " <email.message.Message at 0x1601ba05198>)"
      ]
     },
     "execution_count": 2,
     "metadata": {},
     "output_type": "execute_result"
    }
   ],
   "source": [
    "#Downloads Files of Interest, The next few steps should be done within memory when we get a chance but didn't find a complete workflow of methods that would get us where we needed to be in memory\n",
    "import urllib.request as ur\n",
    "ur.urlretrieve('ftp://ftp.horizon-systems.com/NHDplus/NHDPlusV21/Data/NHDPlusMS/NHDPlus08/NHDPlusV21_MS_08_NHDPLusAttributes_07.7z', 'NHDPlusV21_MS_08_NHDPLusAttributes_07.7z')\n",
    "ur.urlretrieve('ftp://ftp.horizon-systems.com/NHDplus/NHDPlusV21/Data/NHDPlusMS/NHDPlus08/NHDPlusV21_MS_08_NHDSnapshot_07.7z', 'NHDPlusV21_MS_08_NHDSnapshot_07.7z')\n",
    "ur.urlretrieve('ftp://ftp.horizon-systems.com/NHDplus/NHDPlusV21/Data/NHDPlusMS/NHDPlus08/NHDPlusV21_MS_08_NHDPlusCatchment_01.7z', 'NHDPlusV21_MS_08_NHDPlusCatchment_01.7z')"
   ]
  },
  {
   "cell_type": "code",
   "execution_count": 3,
   "metadata": {},
   "outputs": [
    {
     "name": "stdout",
     "output_type": "stream",
     "text": [
      "b'dr--r----- 1 anonymous anonymous          512 Apr 07 16:03 .\\r\\ndr--r----- 1 anonymous anonymous          512 Apr 07 16:03 ..\\r\\n-r--r----- 1 anonymous anonymous       234446 Dec 19  2016 0release_notes_VPU08.pdf\\r\\n-r--r----- 1 anonymous anonymous      1287621 May 01  2015 NHDPlusV21_MS_08_03g_CatSeed_01.7z\\r\\n-r--r----- 1 anonymous anonymous     22724784 May 01  2015 NHDPlusV21_MS_08_03g_FdrFac_01.7z\\r\\n-r--r----- 1 anonymous anonymous      7197622 May 01  2015 NHDPlusV21_MS_08_03g_FdrNull_01.7z\\r\\n-r--r----- 1 anonymous anonymous       509111 May 01  2015 NHDPlusV21_MS_08_03g_FilledAreas_01.7z\\r\\n-r--r----- 1 anonymous anonymous     76553388 Jun 22  2012 NHDPlusV21_MS_08_03g_Hydrodem_01.7z\\r\\n-r--r----- 1 anonymous anonymous     95485514 Jun 22  2012 NHDPlusV21_MS_08_03g_NEDSnapshot_01.7z\\r\\n-r--r----- 1 anonymous anonymous      6500841 Jun 22  2012 NHDPlusV21_MS_08_08a_Catseed_01.7z\\r\\n-r--r----- 1 anonymous anonymous    158654575 Jun 22  2012 NHDPlusV21_MS_08_08a_FdrFac_01.7z\\r\\n-r--r----- 1 anonymous anonymous     48878777 Jun 26  2012 NHDPlusV21_MS_08_08a_FdrNull_01.7z\\r\\n-r--r----- 1 anonymous anonymous      2693382 Jun 26  2012 NHDPlusV21_MS_08_08a_FilledAreas_01.7z\\r\\n-r--r----- 1 anonymous anonymous    220497784 May 01  2015 NHDPlusV21_MS_08_08a_Hydrodem_02.7z\\r\\n-r--r----- 1 anonymous anonymous    293217416 Jun 22  2012 NHDPlusV21_MS_08_08a_NEDSnapshot_01.7z\\r\\n-r--r----- 1 anonymous anonymous      4983470 Jun 22  2012 NHDPlusV21_MS_08_08b_CatSeed_01.7z\\r\\n-r--r----- 1 anonymous anonymous    106407263 Jun 26  2012 NHDPlusV21_MS_08_08b_FdrFac_01.7z\\r\\n-r--r----- 1 anonymous anonymous     32287602 Jun 26  2012 NHDPlusV21_MS_08_08b_FdrNull_01.7z\\r\\n-r--r----- 1 anonymous anonymous      2690842 Jun 26  2012 NHDPlusV21_MS_08_08b_FilledAreas_01.7z\\r\\n-r--r----- 1 anonymous anonymous    170776009 Jun 26  2012 NHDPlusV21_MS_08_08b_Hydrodem_01.7z\\r\\n-r--r----- 1 anonymous anonymous    265210188 Jun 22  2012 NHDPlusV21_MS_08_08b_NEDSnapshot_01.7z\\r\\n-r--r----- 1 anonymous anonymous     58192254 Nov 01  2016 NHDPlusV21_MS_08_EROMExtension_05.7z\\r\\n-r--r----- 1 anonymous anonymous     12715682 Dec 05  2016 NHDPlusV21_MS_08_NHDPlusAttributes_07.7z\\r\\n-r--r----- 1 anonymous anonymous     28978582 Nov 19  2012 NHDPlusV21_MS_08_NHDPlusBurnComponents_02.7z\\r\\n-r--r----- 1 anonymous anonymous    190992576 Jan 15  2013 NHDPlusV21_MS_08_NHDPlusCatchment_01.7z\\r\\n-r--r----- 1 anonymous anonymous     49042524 Apr 06 16:33 NHDPlusV21_MS_08_NHDSnapshotFGDB_07.7z\\r\\n-r--r----- 1 anonymous anonymous     84189410 Nov 11  2016 NHDPlusV21_MS_08_NHDSnapshot_07.7z\\r\\n-r--r----- 1 anonymous anonymous       612529 Jun 26  2012 NHDPlusV21_MS_08_VogelExtension_01.7z\\r\\n-r--r----- 1 anonymous anonymous     86769579 Jan 30  2015 NHDPlusV21_MS_08_VPUAttributeExtension_03.7z\\r\\n-r--r----- 1 anonymous anonymous     15345006 May 10  2016 NHDPlusV21_MS_08_WBDSnapshot_03.7z\\r\\n'\n"
     ]
    }
   ],
   "source": [
    "#This code isn't currently doing anything in the SB item creation, but eventually something like this could be used to track the \"last update\" of the NHD file being harvested.\n",
    "import urllib.request\n",
    "with urllib.request.urlopen('ftp://ftp.horizon-systems.com/NHDplus/NHDPlusV21/Data/NHDPlusMS/NHDPlus08/') as response:\n",
    "    html = response.read()\n",
    "    print (html)"
   ]
  },
  {
   "cell_type": "code",
   "execution_count": 4,
   "metadata": {},
   "outputs": [
    {
     "data": {
      "text/plain": [
       "0"
      ]
     },
     "execution_count": 4,
     "metadata": {},
     "output_type": "execute_result"
    }
   ],
   "source": [
    "#Unzips the 7z files.  This may only run on windows?\n",
    "subprocess.call(r'\"C:\\Program Files\\7-Zip\\7z.exe\" x ' + 'NHDPlusV21_MS_08_NHDPLusAttributes_07.7z' )\n",
    "subprocess.call(r'\"C:\\Program Files\\7-Zip\\7z.exe\" x ' + 'NHDPlusV21_MS_08_NHDSnapshot_07.7z' )\n",
    "subprocess.call(r'\"C:\\Program Files\\7-Zip\\7z.exe\" x ' + 'NHDPlusV21_MS_08_NHDPlusCatchment_01.7z' )"
   ]
  },
  {
   "cell_type": "code",
   "execution_count": 5,
   "metadata": {
    "collapsed": true
   },
   "outputs": [],
   "source": [
    "#Selects only the files we are using and zips them into 3 directories (using .zip).  The three folders include Hydrography, NHDPlusAttributes, and Catchment\n",
    "dataTypes = ['Hydrography', 'NHDPlusAttributes', 'Catchment']\n",
    "for fileType in dataTypes:\n",
    "    z = ZipFile((fileType + '.zip'), 'w')\n",
    "    if fileType == 'Hydrography':\n",
    "        ZipFileList = ['NHDWaterbody.dbf','NHDWaterbody.prj','NHDWaterbody.shp','NHDWaterbody.shx','NHDFlowline.dbf','NHDFlowline.prj','NHDFlowline.shp','NHDFlowline.shx' ]\n",
    "        for file in ZipFileList:\n",
    "            procFile = ('NHDPlusMS/NHDPlus08/NHDSnapshot/Hydrography/' + file)\n",
    "            z.write(procFile, file)\n",
    "    elif fileType == 'NHDPlusAttributes':\n",
    "        ZipFileList = ['elevslope.dbf','PlusFlow.dbf','PlusFlowLineVAA.dbf']\n",
    "        for file in ZipFileList:\n",
    "            procFile = ('NHDPlusMS/NHDPlus08/NHDPlusAttributes/' + file)\n",
    "            z.write(procFile, file)\n",
    "    elif fileType == 'Catchment':\n",
    "        target_dir = r'NHDPlusMS\\NHDPlus08\\NHDPlusCatchment'\n",
    "        CatZip = ZipFile('Catchment.zip', 'w', zipfile.ZIP_DEFLATED)\n",
    "        rootlen = len(target_dir) + 1\n",
    "        for base, dirs, files in os.walk(target_dir):\n",
    "            for file in files:\n",
    "                fn = os.path.join(base, file)\n",
    "                CatZip.write(fn, fn[rootlen:])"
   ]
  },
  {
   "cell_type": "code",
   "execution_count": 6,
   "metadata": {},
   "outputs": [
    {
     "name": "stdout",
     "output_type": "stream",
     "text": [
      "Username: dwieferich@usgs.gov\n",
      "········\n"
     ]
    }
   ],
   "source": [
    "#Create ScienceBase Item\n",
    "\n",
    "loginu=input(\"Username: \")  #asks user for username\n",
    "sb = pysb.SbSession()\n",
    "sb.loginc(str(loginu))\n",
    "time.sleep(2)\n",
    "\n",
    "ret = sb.upload_files_and_create_item(sb.get_my_items_id(), ['Catchment.zip', 'Hydrography.zip', 'NHDPlusAttributes.zip'])\n",
    "SbItem = ret['id']\n"
   ]
  },
  {
   "cell_type": "code",
   "execution_count": 7,
   "metadata": {},
   "outputs": [
    {
     "name": "stdout",
     "output_type": "stream",
     "text": [
      "5983ab56e4b0e2f5d4651f1a\n"
     ]
    }
   ],
   "source": [
    "print (SbItem)"
   ]
  },
  {
   "cell_type": "code",
   "execution_count": 8,
   "metadata": {
    "collapsed": true
   },
   "outputs": [],
   "source": [
    "#Variables to populate the metadata in the SB Item\n",
    "\n",
    "#Acquisition Date\n",
    "import datetime\n",
    "dNow = datetime.datetime.now()\n",
    "AcqDate = dNow.strftime(\"%Y-%m-%d\")\n",
    "#AcqDate = dNow.isoformat()\n",
    "\n"
   ]
  },
  {
   "cell_type": "code",
   "execution_count": 9,
   "metadata": {
    "collapsed": true
   },
   "outputs": [],
   "source": [
    "UpdateItem = {'id': SbItem,\n",
    "              'title': 'NHDPlusV2.1 Processing Region 8; Files Used in the Biogeographic Information System',\n",
    "              'body': 'A subset of files from within processing region 8 of the NHDPlus Version 2.1.  Although reorganized, the files within the attachments are unaltered from the NHDPlus Version 2.1 as they were acquired (see acquisition date listed within this metadata). This item links to python code used to generate the item.',\n",
    "              'purpose': 'This item is intended to preseve specific versions of files being used in the Biogeographic Information System.',\n",
    "              'dates': [{'type': 'Acquisition', 'dateString': AcqDate, 'label': 'Acquisition'}],\n",
    "              'webLinks': [{\"type\":\"sourceCode\",\"typeLabel\":\"Source Code\",\"uri\":\"https://github.com/dwief-usgs/BCB_Ipython_Notebooks/blob/master/NHDPlus21_Into_SB_For_BIS/Reg8_NHDPlusV21_IntoSB_BIS.ipynb\",\"rel\":\"related\",\"title\":\"Python Code Used to Develop and Populate This SB Item\",\"hidden\":False},{\"type\":\"webLink\",\"typeLabel\":\"Web Link\",\"uri\":\"http://www.horizon-systems.com/NHDPlus/NHDPlusV2_home.php\",\"rel\":\"related\",\"title\":\"Additional Information About the NHDPlusV2\",\"hidden\":False}],\n",
    "              'contacts': [{\"name\":\"Horizon Systems\",\"type\":\"Data Owner\",\"contactType\":\"organization\",\"onlineResource\":\"http://www.horizon-systems.com\",\"organization\":{},\"primaryLocation\":{\"streetAddress\":{},\"mailAddress\":{}}},{\"name\":\"Daniel J Wieferich\",\"oldPartyId\":66431,\"type\":\"Contact\",\"contactType\":\"person\",\"email\":\"dwieferich@usgs.gov\",\"active\":True,\"jobTitle\":\"Physical Scientist\",\"firstName\":\"Daniel\",\"middleName\":\"J\",\"lastName\":\"Wieferich\",\"organization\":{\"displayText\":\"Biogeographic Characterization\"},\"primaryLocation\":{\"name\":\"CN=Daniel J Wieferich,OU=CSS,OU=Users,OU=OITS,OU=DI,DC=gs,DC=doi,DC=net - Primary Location\",\"building\":\"DFC Bldg 810\",\"buildingCode\":\"KBT\",\"officePhone\":\"3032024594\",\"faxPhone\":\"3032024710\",\"streetAddress\":{\"line1\":\"W 6th Ave Kipling St\",\"city\":\"Lakewood\",\"state\":\"CO\",\"zip\":\"80225\"},\"mailAddress\":{}},\"orcId\":\"0000-0003-1554-7992\"}],\n",
    "              'tags': [{\"type\":\"Theme\",\"scheme\":\"BIS\",\"name\":\"NHDPlusV2.1\"},{\"type\":\"Theme\",\"scheme\":\"BIS\",\"name\":\"Reg8\"}]\n",
    "             }\n",
    "\n",
    "updateItem = sb.updateSbItem(UpdateItem)"
   ]
  },
  {
   "cell_type": "code",
   "execution_count": 1,
   "metadata": {
    "collapsed": true
   },
   "outputs": [],
   "source": [
    "#Remove unneeded local copies of files\n",
    "import shutil\n",
    "import os\n",
    "\n",
    "os.remove('Catchment.zip')\n",
    "os.remove('Hydrography.zip')\n",
    "os.remove('NHDPlusAttributes.zip')\n",
    "os.remove('NHDPlusV21_MS_08_NHDPLusAttributes_07.7z')\n",
    "os.remove('NHDPlusV21_MS_08_NHDPlusCatchment_01.7z')\n",
    "os.remove('NHDPlusV21_MS_08_NHDSnapshot_07.7z')\n",
    "shutil.rmtree('NHDPlusMS')"
   ]
  },
  {
   "cell_type": "code",
   "execution_count": null,
   "metadata": {
    "collapsed": true
   },
   "outputs": [],
   "source": []
  }
 ],
 "metadata": {
  "kernelspec": {
   "display_name": "Python 3",
   "language": "python",
   "name": "python3"
  },
  "language_info": {
   "codemirror_mode": {
    "name": "ipython",
    "version": 3
   },
   "file_extension": ".py",
   "mimetype": "text/x-python",
   "name": "python",
   "nbconvert_exporter": "python",
   "pygments_lexer": "ipython3",
   "version": "3.6.1"
  }
 },
 "nbformat": 4,
 "nbformat_minor": 2
}
