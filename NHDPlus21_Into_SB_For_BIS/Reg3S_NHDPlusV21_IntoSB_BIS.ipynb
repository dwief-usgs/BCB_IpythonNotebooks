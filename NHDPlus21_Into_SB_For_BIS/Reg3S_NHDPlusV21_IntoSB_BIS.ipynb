{
 "cells": [
  {
   "cell_type": "markdown",
   "metadata": {},
   "source": [
    "# This python code builds ScienceBase items that house and describe specific versions of data files from the NHDPlusV2.1 that are being used in the Biogeographic Information System.  Data were extracted from ftp://ftp.horizon-systems.com/NHDplus/NHDPlusV21/ and stored within ScienceBase as attachments.  Although reorganized, the files stored in the ScienceBase Items were not altered. In future iterations of this code we would like to avoid using local disk space and operations that may be dependent on a local operating system.  "
   ]
  },
  {
   "cell_type": "code",
   "execution_count": 1,
   "metadata": {
    "collapsed": true
   },
   "outputs": [],
   "source": [
    "import pysb\n",
    "import urllib\n",
    "import os\n",
    "import getpass\n",
    "import time\n",
    "import subprocess\n",
    "from zipfile import ZipFile\n",
    "import zipfile"
   ]
  },
  {
   "cell_type": "code",
   "execution_count": 2,
   "metadata": {},
   "outputs": [
    {
     "data": {
      "text/plain": [
       "('NHDPlusV21_SA_03S_NHDPlusCatchment_01.7z',\n",
       " <email.message.Message at 0x246988c24e0>)"
      ]
     },
     "execution_count": 2,
     "metadata": {},
     "output_type": "execute_result"
    }
   ],
   "source": [
    "#Downloads Files of Interest, The next few steps should be done within memory when we get a chance but didn't find a complete workflow of methods that would get us where we needed to be in memory\n",
    "import urllib.request as ur\n",
    "ur.urlretrieve('ftp://ftp.horizon-systems.com/NHDplus/NHDPlusV21/Data/NHDPlusSA/NHDPlus03S/NHDPlusV21_SA_03S_NHDPLusAttributes_06.7z', 'NHDPlusV21_SA_03S_NHDPLusAttributes_06.7z')\n",
    "ur.urlretrieve('ftp://ftp.horizon-systems.com/NHDplus/NHDPlusV21/Data/NHDPlusSA/NHDPlus03S/NHDPlusV21_SA_03S_NHDSnapshot_06.7z', 'NHDPlusV21_SA_03S_NHDSnapshot_06.7z')\n",
    "ur.urlretrieve('ftp://ftp.horizon-systems.com/NHDplus/NHDPlusV21/Data/NHDPlusSA/NHDPlus03S/NHDPlusV21_SA_03S_NHDPlusCatchment_01.7z', 'NHDPlusV21_SA_03S_NHDPlusCatchment_01.7z')"
   ]
  },
  {
   "cell_type": "code",
   "execution_count": null,
   "metadata": {
    "collapsed": true
   },
   "outputs": [],
   "source": [
    "#This code isn't currently doing anything in the SB item creation, but eventually something like this could be used to track the \"last update\" of the NHD file being harvested.\n",
    "import urllib.request\n",
    "with urllib.request.urlopen('ftp://ftp.horizon-systems.com/NHDplus/NHDPlusV21/Data/NHDPlusSA') as response:\n",
    "    html = response.read()\n",
    "    print (html)"
   ]
  },
  {
   "cell_type": "code",
   "execution_count": 3,
   "metadata": {},
   "outputs": [
    {
     "data": {
      "text/plain": [
       "0"
      ]
     },
     "execution_count": 3,
     "metadata": {},
     "output_type": "execute_result"
    }
   ],
   "source": [
    "#Unzips the 7z files.  This may only run on windows?\n",
    "subprocess.call(r'\"C:\\Program Files\\7-Zip\\7z.exe\" x ' + 'NHDPlusV21_SA_03S_NHDPLusAttributes_06.7z' )\n",
    "subprocess.call(r'\"C:\\Program Files\\7-Zip\\7z.exe\" x ' + 'NHDPlusV21_SA_03S_NHDSnapshot_06.7z' )\n",
    "subprocess.call(r'\"C:\\Program Files\\7-Zip\\7z.exe\" x ' + 'NHDPlusV21_SA_03S_NHDPlusCatchment_01.7z' )"
   ]
  },
  {
   "cell_type": "code",
   "execution_count": 4,
   "metadata": {
    "collapsed": true
   },
   "outputs": [],
   "source": [
    "#Selects only the files we are using and zips them into 3 directories (using .zip).  The three folders include Hydrography, NHDPlusAttributes, and Catchment\n",
    "dataTypes = ['Hydrography', 'NHDPlusAttributes', 'Catchment']\n",
    "for fileType in dataTypes:\n",
    "        if fileType == 'Hydrography':\n",
    "            z = ZipFile((fileType + '.zip'), 'w')\n",
    "            ZipFileList = ['NHDWaterbody.dbf','NHDWaterbody.prj','NHDWaterbody.shp','NHDWaterbody.shx','NHDFlowline.dbf','NHDFlowline.prj','NHDFlowline.shp','NHDFlowline.shx' ]\n",
    "            for file in ZipFileList:\n",
    "                procFile = ('NHDPlusSA/NHDPlus03S/NHDSnapshot/Hydrography/' + file)\n",
    "                z.write(procFile, file)\n",
    "        elif fileType == 'NHDPlusAttributes':\n",
    "            z = ZipFile((fileType + '.zip'), 'w')\n",
    "            ZipFileList = ['elevslope.dbf','PlusFlow.dbf','PlusFlowLineVAA.dbf']\n",
    "            for file in ZipFileList:\n",
    "                procFile = ('NHDPlusSA/NHDPlus03S/NHDPlusAttributes/' + file)\n",
    "                z.write(procFile, file)\n",
    "        elif fileType == 'Catchment':\n",
    "            target_dir = r'NHDPlusSA\\NHDPlus03S\\NHDPlusCatchment'\n",
    "            CatZip = ZipFile('Catchment.zip', 'w', zipfile.ZIP_DEFLATED)\n",
    "            rootlen = len(target_dir) + 1\n",
    "            for base, dirs, files in os.walk(target_dir):\n",
    "                for file in files:\n",
    "                    fn = os.path.join(base, file)\n",
    "                    CatZip.write(fn, fn[rootlen:])\n",
    "            CatZip.close()\n",
    "            #os.rename('Catchment.zip', 'Catchment03S.zip')\n"
   ]
  },
  {
   "cell_type": "code",
   "execution_count": 5,
   "metadata": {},
   "outputs": [
    {
     "name": "stdout",
     "output_type": "stream",
     "text": [
      "Username: dwieferich@usgs.gov\n",
      "········\n"
     ]
    }
   ],
   "source": [
    "#Create ScienceBase Item\n",
    "\n",
    "loginu=input(\"Username: \")  #asks user for username\n",
    "sb = pysb.SbSession()\n",
    "sb.loginc(str(loginu))\n",
    "time.sleep(2)\n",
    "\n",
    "ret = sb.upload_files_and_create_item(sb.get_my_items_id(), ['Catchment.zip', 'Hydrography.zip', 'NHDPlusAttributes.zip'])\n",
    "SbItem = ret['id']\n"
   ]
  },
  {
   "cell_type": "code",
   "execution_count": 6,
   "metadata": {},
   "outputs": [
    {
     "name": "stdout",
     "output_type": "stream",
     "text": [
      "599c6251e4b0b589267ed6ab\n"
     ]
    }
   ],
   "source": [
    "print (SbItem)"
   ]
  },
  {
   "cell_type": "code",
   "execution_count": 7,
   "metadata": {
    "collapsed": true
   },
   "outputs": [],
   "source": [
    "#Variables to populate the metadata in the SB Item\n",
    "\n",
    "#Acquisition Date\n",
    "import datetime\n",
    "dNow = datetime.datetime.now()\n",
    "AcqDate = dNow.strftime(\"%Y-%m-%d\")\n",
    "#AcqDate = dNow.isoformat()\n",
    "\n"
   ]
  },
  {
   "cell_type": "code",
   "execution_count": 8,
   "metadata": {
    "collapsed": true
   },
   "outputs": [],
   "source": [
    "UpdateItem = {'id': SbItem,\n",
    "              'title': 'NHDPlusV2.1 Processing Region 3S; Files Used in the Biogeographic Information System',\n",
    "              'body': 'A subset of files from within processing region 3S of the NHDPlus Version 2.1.  Although reorganized, the files within the attachments are unaltered from the NHDPlus Version 2.1 as they were acquired (see acquisition date listed within this metadata). This item links to python code used to generate the item.',\n",
    "              'purpose': 'This item is intended to preseve specific versions of files being used in the Biogeographic Information System.',\n",
    "              'dates': [{'type': 'Acquisition', 'dateString': AcqDate, 'label': 'Acquisition'}],\n",
    "              'webLinks': [{\"type\":\"sourceCode\",\"typeLabel\":\"Source Code\",\"uri\":\"https://github.com/dwief-usgs/BCB_Ipython_Notebooks/blob/master/Reg3S_NHDPlusV21_IntoSB_BIS.ipynb\",\"rel\":\"related\",\"title\":\"Python Code Used to Develop and Populate This SB Item\",\"hidden\":False},{\"type\":\"webLink\",\"typeLabel\":\"Web Link\",\"uri\":\"http://www.horizon-systems.com/NHDPlus/NHDPlusV2_home.php\",\"rel\":\"related\",\"title\":\"Additional Information About the NHDPlusV2\",\"hidden\":False}],\n",
    "              'contacts': [{\"name\":\"Horizon Systems\",\"type\":\"Data Owner\",\"contactType\":\"organization\",\"onlineResource\":\"http://www.horizon-systems.com\",\"organization\":{},\"primaryLocation\":{\"streetAddress\":{},\"mailAddress\":{}}},{\"name\":\"Daniel J Wieferich\",\"oldPartyId\":66431,\"type\":\"Contact\",\"contactType\":\"person\",\"email\":\"dwieferich@usgs.gov\",\"active\":True,\"jobTitle\":\"Physical Scientist\",\"firstName\":\"Daniel\",\"middleName\":\"J\",\"lastName\":\"Wieferich\",\"organization\":{\"displayText\":\"Biogeographic Characterization\"},\"primaryLocation\":{\"name\":\"CN=Daniel J Wieferich,OU=CSS,OU=Users,OU=OITS,OU=DI,DC=gs,DC=doi,DC=net - Primary Location\",\"building\":\"DFC Bldg 810\",\"buildingCode\":\"KBT\",\"officePhone\":\"3032024594\",\"faxPhone\":\"3032024710\",\"streetAddress\":{\"line1\":\"W 6th Ave Kipling St\",\"city\":\"Lakewood\",\"state\":\"CO\",\"zip\":\"80225\"},\"mailAddress\":{}},\"orcId\":\"0000-0003-1554-7992\"}],\n",
    "              \"tags\":[{\"type\":\"Theme\",\"scheme\":\"BIS\",\"name\":\"NHDPlusV2.1\"},{\"type\":\"Theme\",\"scheme\":\"BIS\",\"name\":\"Reg3S\"}]\n",
    "             }\n",
    "\n",
    "updateItem = sb.updateSbItem(UpdateItem)"
   ]
  },
  {
   "cell_type": "code",
   "execution_count": null,
   "metadata": {
    "collapsed": true
   },
   "outputs": [],
   "source": [
    "#Remove unneeded local copies of files\n",
    "import shutil\n",
    "import os\n",
    "\n",
    "os.remove('Catchment.zip')\n",
    "os.remove('Hydrography.zip')\n",
    "os.remove('NHDPlusAttributes.zip')\n",
    "\n",
    "os.remove('NHDPlusV21_SA_03S_NHDPLusAttributes_06.7z')\n",
    "os.remove('NHDPlusV21_SA_03S_NHDSnapshot_06.7z')\n",
    "os.remove('NHDPlusV21_SA_03S_NHDPlusCatchment_01.7z')\n",
    "\n",
    "shutil.rmtree('NHDPlusSA')"
   ]
  }
 ],
 "metadata": {
  "kernelspec": {
   "display_name": "Python 3",
   "language": "python",
   "name": "python3"
  },
  "language_info": {
   "codemirror_mode": {
    "name": "ipython",
    "version": 3
   },
   "file_extension": ".py",
   "mimetype": "text/x-python",
   "name": "python",
   "nbconvert_exporter": "python",
   "pygments_lexer": "ipython3",
   "version": "3.6.1"
  }
 },
 "nbformat": 4,
 "nbformat_minor": 2
}
