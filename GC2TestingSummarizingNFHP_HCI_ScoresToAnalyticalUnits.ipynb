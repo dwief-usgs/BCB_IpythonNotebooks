{
 "cells": [
  {
   "cell_type": "markdown",
   "metadata": {},
   "source": [
    "# Title: GC2 testing : Summarizing Fish Habitat Condition Scores to Analytical Units                                                                                                                                                                                                                      "
   ]
  },
  {
   "cell_type": "markdown",
   "metadata": {},
   "source": [
    "# Abstract: This notebook explores the storage and data retrieval capabilities of  the GC2 platform.  Data are retrieved from a GC2 test database in this example.  #Summarizes National Fish Habitat Partnership's 2015 Fish Habitat Condition Index (HCI) information from NHDPlusV1 flowlines into user selected ecological or jurisdictional spatial units (analytical units) from the Spatial Features Registry.  Flowlines are assigned to analytical units by a spatial join of flowline midpoints with each analytical unit.  A length-weighted average of HCI scores in each analytical unit are then calculated.                                                                                                                                                                                        "
   ]
  },
  {
   "cell_type": "markdown",
   "metadata": {},
   "source": [
    "# Contact Information: Daniel Wieferich (dwieferich@usgs.gov)                                                                                                                                                                                                                       "
   ]
  },
  {
   "cell_type": "markdown",
   "metadata": {},
   "source": [
    "# Date: 20170228"
   ]
  },
  {
   "cell_type": "markdown",
   "metadata": {},
   "source": [
    "# Import libraries"
   ]
  },
  {
   "cell_type": "code",
   "execution_count": 3,
   "metadata": {
    "collapsed": false
   },
   "outputs": [],
   "source": [
    "import requests\n",
    "import geopandas as gpd\n",
    "import geojson\n",
    "import pandas as pd\n",
    "import numpy as np\n",
    "import time"
   ]
  },
  {
   "cell_type": "markdown",
   "metadata": {},
   "source": [
    "# API Call to GC2 test database.  Returns analytical units (as 'dfau') and NFHP data linked to the NHDPlusV1 flowline midpoints (as 'df').  More description in the comments below.   "
   ]
  },
  {
   "cell_type": "markdown",
   "metadata": {},
   "source": [
    "# A note on how to validate GEOJSON:\n",
    "#valids geojson, test shows 'yes' valid\n",
    "#validation = geojson.is_valid(data)\n",
    "#validation['valid']         "
   ]
  },
  {
   "cell_type": "code",
   "execution_count": 4,
   "metadata": {
    "collapsed": false,
    "scrolled": false
   },
   "outputs": [],
   "source": [
    "#Retrieves Data for analytical units, Renders GEOJSON as Python object\n",
    "url_au = \"https://gc2.mapcentia.com/api/v1/sql/dwief?q=select featureuri as au_uri, the_geom from tstnad where featureuri = 'a6bba27a-ea49-11e6-9dda-6f223c9e40e9' or featureuri = 'a6bd9e54-ea49-11e6-9dde-f3016d8ddba6'\"\n",
    "r_au = requests.get(url=url_au)\n",
    "data_au = geojson.loads(r_au.text)\n",
    "dfau = gpd.GeoDataFrame.from_features(data_au['features'], 4269)\n",
    "\n",
    "#Retrieves Data for NFHP and NHD, Renders GEOJSON as Python object\n",
    "#This query joins spatial informatoin from the NHDPlusV1 flowline midpoints to NFHP Habitat Condition Index (HCI) scores. HCI values were multiplied by length of flowline (field = hcilength) to help preprocess information to be used in the numerator of the length weighted average calculations.\n",
    "url = \"https://gc2.mapcentia.com/api/v1/sql/dwief?q=select a.featureuri,b.cumu_hci*c.lengthkm as hcilength, c.lengthkm, a.the_geom from sfr_point a left join nhdplusv1_flowmid d on a.featureuri=d.featureuri left join nfhp2015hci b on d.comid=b.comid left join nhdplusv1_flowline c on d.comid=c.comid where a.ftyped='https://www.sciencebase.gov/vocab/term/58a49caee4b0f974afcf03b3'\"\n",
    "r = requests.get(url=url)\n",
    "data = geojson.loads(r.text)\n",
    "df = gpd.GeoDataFrame.from_features(data['features'], 4269)"
   ]
  },
  {
   "cell_type": "markdown",
   "metadata": {},
   "source": [
    "# Spatial join of information assigns NHDPlusV1 midpoints, containing NFHP habitat condition scores, to the selected analytical units (this example uses two EPA Omernick Level 3 Ecoregions).  Processing time is returned at completion."
   ]
  },
  {
   "cell_type": "code",
   "execution_count": 5,
   "metadata": {
    "collapsed": false
   },
   "outputs": [
    {
     "name": "stdout",
     "output_type": "stream",
     "text": [
      "--- 0.000200001398722 minutes to run spatial join ---\n"
     ]
    }
   ],
   "source": [
    "start_time = time.time()\n",
    "\n",
    "#Spatial join of the two geodataframes\n",
    "pointInPolys = gpd.sjoin(df, dfau, how='left',op='within')\n",
    "\n",
    "#Print time process takes\n",
    "print(\"--- %s minutes to run spatial join ---\" % ((time.time() - start_time)/60))"
   ]
  },
  {
   "cell_type": "code",
   "execution_count": 6,
   "metadata": {
    "collapsed": false
   },
   "outputs": [
    {
     "data": {
      "text/html": [
       "<div>\n",
       "<table border=\"1\" class=\"dataframe\">\n",
       "  <thead>\n",
       "    <tr style=\"text-align: right;\">\n",
       "      <th></th>\n",
       "      <th>featureuri</th>\n",
       "      <th>geometry</th>\n",
       "      <th>hcilength</th>\n",
       "      <th>lengthkm</th>\n",
       "      <th>index_right</th>\n",
       "      <th>au_uri</th>\n",
       "    </tr>\n",
       "  </thead>\n",
       "  <tbody>\n",
       "    <tr>\n",
       "      <th>0</th>\n",
       "      <td>bb488d0a-ed63-11e6-be02-73ec1c432711</td>\n",
       "      <td>(POINT (-12629508.034164 5774913.4014151))</td>\n",
       "      <td>11.8312</td>\n",
       "      <td>2.572</td>\n",
       "      <td>1</td>\n",
       "      <td>a6bd9e54-ea49-11e6-9dde-f3016d8ddba6</td>\n",
       "    </tr>\n",
       "    <tr>\n",
       "      <th>1</th>\n",
       "      <td>bb488d0f-ed63-11e6-be07-8b101555701e</td>\n",
       "      <td>(POINT (-12628639.815941 5774219.1682246))</td>\n",
       "      <td>4.8714</td>\n",
       "      <td>1.059</td>\n",
       "      <td>1</td>\n",
       "      <td>a6bd9e54-ea49-11e6-9dde-f3016d8ddba6</td>\n",
       "    </tr>\n",
       "    <tr>\n",
       "      <th>2</th>\n",
       "      <td>bb4aee74-ed63-11e6-be0d-e389826550ba</td>\n",
       "      <td>(POINT (-12625241.892791 5773433.4739399))</td>\n",
       "      <td>9.8118</td>\n",
       "      <td>2.133</td>\n",
       "      <td>1</td>\n",
       "      <td>a6bd9e54-ea49-11e6-9dde-f3016d8ddba6</td>\n",
       "    </tr>\n",
       "    <tr>\n",
       "      <th>3</th>\n",
       "      <td>a95be0d7-ed66-11e6-b7c6-27e3c1d64dca</td>\n",
       "      <td>(POINT (-12462004.805999 5428281.5660944))</td>\n",
       "      <td>2.3135</td>\n",
       "      <td>0.661</td>\n",
       "      <td>0</td>\n",
       "      <td>a6bba27a-ea49-11e6-9dda-6f223c9e40e9</td>\n",
       "    </tr>\n",
       "    <tr>\n",
       "      <th>4</th>\n",
       "      <td>a95be0d8-ed66-11e6-b7c7-5f7265177b6d</td>\n",
       "      <td>(POINT (-12462043.960292 5429713.4660295))</td>\n",
       "      <td>3.248</td>\n",
       "      <td>0.928</td>\n",
       "      <td>0</td>\n",
       "      <td>a6bba27a-ea49-11e6-9dda-6f223c9e40e9</td>\n",
       "    </tr>\n",
       "    <tr>\n",
       "      <th>5</th>\n",
       "      <td>a95e422e-ed66-11e6-b7c8-e3f6a3ab424a</td>\n",
       "      <td>(POINT (-12462647.652125 5431213.0630325))</td>\n",
       "      <td>4.795</td>\n",
       "      <td>1.37</td>\n",
       "      <td>0</td>\n",
       "      <td>a6bba27a-ea49-11e6-9dda-6f223c9e40e9</td>\n",
       "    </tr>\n",
       "  </tbody>\n",
       "</table>\n",
       "</div>"
      ],
      "text/plain": [
       "                             featureuri  \\\n",
       "0  bb488d0a-ed63-11e6-be02-73ec1c432711   \n",
       "1  bb488d0f-ed63-11e6-be07-8b101555701e   \n",
       "2  bb4aee74-ed63-11e6-be0d-e389826550ba   \n",
       "3  a95be0d7-ed66-11e6-b7c6-27e3c1d64dca   \n",
       "4  a95be0d8-ed66-11e6-b7c7-5f7265177b6d   \n",
       "5  a95e422e-ed66-11e6-b7c8-e3f6a3ab424a   \n",
       "\n",
       "                                     geometry hcilength lengthkm  index_right  \\\n",
       "0  (POINT (-12629508.034164 5774913.4014151))   11.8312    2.572            1   \n",
       "1  (POINT (-12628639.815941 5774219.1682246))    4.8714    1.059            1   \n",
       "2  (POINT (-12625241.892791 5773433.4739399))    9.8118    2.133            1   \n",
       "3  (POINT (-12462004.805999 5428281.5660944))    2.3135    0.661            0   \n",
       "4  (POINT (-12462043.960292 5429713.4660295))     3.248    0.928            0   \n",
       "5  (POINT (-12462647.652125 5431213.0630325))     4.795     1.37            0   \n",
       "\n",
       "                                 au_uri  \n",
       "0  a6bd9e54-ea49-11e6-9dde-f3016d8ddba6  \n",
       "1  a6bd9e54-ea49-11e6-9dde-f3016d8ddba6  \n",
       "2  a6bd9e54-ea49-11e6-9dde-f3016d8ddba6  \n",
       "3  a6bba27a-ea49-11e6-9dda-6f223c9e40e9  \n",
       "4  a6bba27a-ea49-11e6-9dda-6f223c9e40e9  \n",
       "5  a6bba27a-ea49-11e6-9dda-6f223c9e40e9  "
      ]
     },
     "execution_count": 6,
     "metadata": {},
     "output_type": "execute_result"
    }
   ],
   "source": [
    "pointInPolys.head(10)"
   ]
  },
  {
   "cell_type": "markdown",
   "metadata": {},
   "source": [
    "# Groups the information by analytical unit, summing fields hcilength and lengthkm. Next hcilength is divided by total length of flowlines in the analytical unit to provide the final length-weighted average HCI score per analytical unit (field name = lw_hci)"
   ]
  },
  {
   "cell_type": "code",
   "execution_count": 7,
   "metadata": {
    "collapsed": false
   },
   "outputs": [
    {
     "data": {
      "text/html": [
       "<div>\n",
       "<table border=\"1\" class=\"dataframe\">\n",
       "  <thead>\n",
       "    <tr style=\"text-align: right;\">\n",
       "      <th></th>\n",
       "      <th>au_uri</th>\n",
       "      <th>hcilength</th>\n",
       "      <th>lengthkm</th>\n",
       "    </tr>\n",
       "  </thead>\n",
       "  <tbody>\n",
       "    <tr>\n",
       "      <th>0</th>\n",
       "      <td>a6bba27a-ea49-11e6-9dda-6f223c9e40e9</td>\n",
       "      <td>10.3565</td>\n",
       "      <td>2.959</td>\n",
       "    </tr>\n",
       "    <tr>\n",
       "      <th>1</th>\n",
       "      <td>a6bd9e54-ea49-11e6-9dde-f3016d8ddba6</td>\n",
       "      <td>26.5144</td>\n",
       "      <td>5.764</td>\n",
       "    </tr>\n",
       "  </tbody>\n",
       "</table>\n",
       "</div>"
      ],
      "text/plain": [
       "                                 au_uri  hcilength  lengthkm\n",
       "0  a6bba27a-ea49-11e6-9dda-6f223c9e40e9    10.3565     2.959\n",
       "1  a6bd9e54-ea49-11e6-9dde-f3016d8ddba6    26.5144     5.764"
      ]
     },
     "execution_count": 7,
     "metadata": {},
     "output_type": "execute_result"
    }
   ],
   "source": [
    "#reference =>  http://pandas.pydata.org/pandas-docs/stable/groupby.html\n",
    "pointInPolys.hcilength = pointInPolys.hcilength.apply(float)\n",
    "pointInPolys.lengthkm = pointInPolys.lengthkm.apply(float)\n",
    "df = pd.DataFrame(pointInPolys, columns=['au_uri','hcilength','lengthkm'])\n",
    "grouped = df.groupby('au_uri')\n",
    "df_agg = grouped.aggregate(np.sum)\n",
    "df_agg.reset_index(level='1', inplace=True)\n",
    "df_agg.head()\n",
    "#list(df_agg.columns.values)"
   ]
  },
  {
   "cell_type": "code",
   "execution_count": 8,
   "metadata": {
    "collapsed": false,
    "scrolled": true
   },
   "outputs": [
    {
     "data": {
      "text/html": [
       "<div>\n",
       "<table border=\"1\" class=\"dataframe\">\n",
       "  <thead>\n",
       "    <tr style=\"text-align: right;\">\n",
       "      <th></th>\n",
       "      <th>au_uri</th>\n",
       "      <th>hcilength</th>\n",
       "      <th>lengthkm</th>\n",
       "      <th>lw_hci</th>\n",
       "    </tr>\n",
       "  </thead>\n",
       "  <tbody>\n",
       "    <tr>\n",
       "      <th>0</th>\n",
       "      <td>a6bba27a-ea49-11e6-9dda-6f223c9e40e9</td>\n",
       "      <td>10.3565</td>\n",
       "      <td>2.959</td>\n",
       "      <td>3.5</td>\n",
       "    </tr>\n",
       "    <tr>\n",
       "      <th>1</th>\n",
       "      <td>a6bd9e54-ea49-11e6-9dde-f3016d8ddba6</td>\n",
       "      <td>26.5144</td>\n",
       "      <td>5.764</td>\n",
       "      <td>4.6</td>\n",
       "    </tr>\n",
       "  </tbody>\n",
       "</table>\n",
       "</div>"
      ],
      "text/plain": [
       "                                 au_uri  hcilength  lengthkm  lw_hci\n",
       "0  a6bba27a-ea49-11e6-9dda-6f223c9e40e9    10.3565     2.959     3.5\n",
       "1  a6bd9e54-ea49-11e6-9dde-f3016d8ddba6    26.5144     5.764     4.6"
      ]
     },
     "execution_count": 8,
     "metadata": {},
     "output_type": "execute_result"
    }
   ],
   "source": [
    "df_agg['lw_hci'] = df_agg.hcilength / df_agg.lengthkm\n",
    "df_agg.head()"
   ]
  }
 ],
 "metadata": {
  "anaconda-cloud": {},
  "kernelspec": {
   "display_name": "Python [default]",
   "language": "python",
   "name": "python2"
  },
  "language_info": {
   "codemirror_mode": {
    "name": "ipython",
    "version": 2
   },
   "file_extension": ".py",
   "mimetype": "text/x-python",
   "name": "python",
   "nbconvert_exporter": "python",
   "pygments_lexer": "ipython2",
   "version": "2.7.12"
  }
 },
 "nbformat": 4,
 "nbformat_minor": 0
}
