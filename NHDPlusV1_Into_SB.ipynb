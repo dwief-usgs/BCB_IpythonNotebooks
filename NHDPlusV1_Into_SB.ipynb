{
 "cells": [
  {
   "cell_type": "markdown",
   "metadata": {},
   "source": [
    "# Testing of urllib to import nhd files into memory and push into ScienceBase.  This method first creates a SB item, then attemps to attach files."
   ]
  },
  {
   "cell_type": "code",
   "execution_count": 1,
   "metadata": {},
   "outputs": [
    {
     "name": "stdout",
     "output_type": "stream",
     "text": [
      "········\n"
     ]
    }
   ],
   "source": [
    "#Fails at Shapefile (The shapefile components may need to be all uploaded at once?)\n",
    "\n",
    "import urllib\n",
    "import io\n",
    "from zipfile import ZipFile\n",
    "import pysb\n",
    "import getpass\n",
    "import time\n",
    "\n",
    "\n",
    "#SB Login\n",
    "sb = pysb.SbSession()\n",
    "sb.loginc('dwieferich@usgs.gov')\n",
    "time.sleep(2)   #suggestion from SB, to allow time for login\n",
    "\n"
   ]
  },
  {
   "cell_type": "code",
   "execution_count": 2,
   "metadata": {},
   "outputs": [
    {
     "name": "stdout",
     "output_type": "stream",
     "text": [
      "NEW ITEM: {'title': 'NHDPlusV1 SourisRedRainy Files Test', 'parentId': '53ece718e4b02bf5a7681838', 'provenance': {'annotation': 'Python ScienceBase REST test script'}}\n"
     ]
    }
   ],
   "source": [
    "#Create SB item \n",
    "new_item = {'title': 'NHDPlusV1 SourisRedRainy Files Test',\n",
    "    'parentId': sb.get_my_items_id(),\n",
    "    'provenance': {'annotation': 'Python ScienceBase REST test script'}}\n",
    "#new_item = sb.create_item(new_item)\n",
    "print(\"NEW ITEM: \" + str(new_item))\n",
    "\n"
   ]
  },
  {
   "cell_type": "code",
   "execution_count": null,
   "metadata": {
    "collapsed": true
   },
   "outputs": [],
   "source": [
    "#Loop through files from NHDPlusV1 ftp, first read to memory, then upload file to SB item\n",
    "flist = ['NHDPlus09/NHDFlowlineVAA.dbf','NHDPlus09/Hydrography/NHDFlowline.dbf','NHDPlus09/Hydrography/NHDFlowline.prj','NHDPlus09/Hydrography/nhdflowline.shp','NHDPlus09/Hydrography/nhdflowline.shx']    \n",
    "mysock = urllib.request.urlopen('ftp://ftp.horizon-systems.com/NHDplus/NHDPlusV1/SourisRedRainy/NHDPlus09V01_02_NHD.zip')  \n"
   ]
  },
  {
   "cell_type": "code",
   "execution_count": null,
   "metadata": {
    "collapsed": true
   },
   "outputs": [],
   "source": [
    "memfile = io.BytesIO(mysock.read())\n",
    "with ZipFile(memfile, 'r') as ftpl:\n",
    "    for file in flist:\n",
    "        test = ftpl.extract(file)\n",
    "        new_item = sb.upload_file_to_item(new_item, test, scrape_file=False)\n",
    "ZipFile.close(ftpl)"
   ]
  },
  {
   "cell_type": "code",
   "execution_count": null,
   "metadata": {
    "collapsed": true
   },
   "outputs": [],
   "source": [
    "UpdateItem = {'id': new_item,\n",
    "              'title': 'NHDPlusV1 Processing Region 9; Files Used in the Biogeographic Information System',\n",
    "              'body': 'A subset of files from within processing region 9 of the NHDPlus Version 1.  Although reorganized, the files within the attachments are unaltered from the NHDPlus Version 1 (see acquisition date listed within this metadata). This item links to python code used to generate the item.',\n",
    "              'purpose': 'This item is intended to preseve specific versions of files being used in the Biogeographic Information System.',\n",
    "              'dates': [{'type': 'Acquisition', 'dateString': AcqDate, 'label': 'Acquisition'}],\n",
    "              'webLinks': [{\"type\":\"sourceCode\",\"typeLabel\":\"Source Code\",\"uri\":\"https://github.com/dwief-usgs/BCB_Ipython_Notebooks/blob/master/Reg9_NHDPlusV21_IntoSB_BIS.ipynb\",\"rel\":\"related\",\"title\":\"Python Code Used to Develop and Populate This SB Item\",\"hidden\":False},{\"type\":\"webLink\",\"typeLabel\":\"Web Link\",\"uri\":\"http://www.horizon-systems.com/NHDPlus/NHDPlusV1_home.php\",\"rel\":\"related\",\"title\":\"Additional Information About the NHDPlusV1\",\"hidden\":False}],\n",
    "              'contacts': [{\"name\":\"Horizon Systems\",\"type\":\"Data Owner\",\"contactType\":\"organization\",\"onlineResource\":\"http://www.horizon-systems.com\",\"organization\":{},\"primaryLocation\":{\"streetAddress\":{},\"mailAddress\":{}}},{\"name\":\"Daniel J Wieferich\",\"oldPartyId\":66431,\"type\":\"Contact\",\"contactType\":\"person\",\"email\":\"dwieferich@usgs.gov\",\"active\":True,\"jobTitle\":\"Physical Scientist\",\"firstName\":\"Daniel\",\"middleName\":\"J\",\"lastName\":\"Wieferich\",\"organization\":{\"displayText\":\"Biogeographic Characterization\"},\"primaryLocation\":{\"name\":\"CN=Daniel J Wieferich,OU=CSS,OU=Users,OU=OITS,OU=DI,DC=gs,DC=doi,DC=net - Primary Location\",\"building\":\"DFC Bldg 810\",\"buildingCode\":\"KBT\",\"officePhone\":\"3032024594\",\"faxPhone\":\"3032024710\",\"streetAddress\":{\"line1\":\"W 6th Ave Kipling St\",\"city\":\"Lakewood\",\"state\":\"CO\",\"zip\":\"80225\"},\"mailAddress\":{}},\"orcId\":\"0000-0003-1554-7992\"}],\n",
    "              \"tags\":[{\"type\":\"Theme\",\"scheme\":\"BIS\",\"name\":\"NHDPlusV2.1\"},{\"type\":\"Theme\",\"scheme\":\"BIS\",\"name\":\"Reg9\"}]\n",
    "             }\n",
    "\n",
    "updateItem = sb.updateSbItem(UpdateItem)"
   ]
  }
 ],
 "metadata": {
  "anaconda-cloud": {},
  "kernelspec": {
   "display_name": "Python 3",
   "language": "python",
   "name": "python3"
  },
  "language_info": {
   "codemirror_mode": {
    "name": "ipython",
    "version": 3
   },
   "file_extension": ".py",
   "mimetype": "text/x-python",
   "name": "python",
   "nbconvert_exporter": "python",
   "pygments_lexer": "ipython3",
   "version": "3.6.1"
  }
 },
 "nbformat": 4,
 "nbformat_minor": 1
}
